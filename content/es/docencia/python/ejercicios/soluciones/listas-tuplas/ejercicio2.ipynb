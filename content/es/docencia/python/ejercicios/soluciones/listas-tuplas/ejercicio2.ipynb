{
  "cells": [
    {
      "cell_type": "markdown",
      "metadata": {
        "id": "PLHDhYfG8Bi6"
      },
      "source": [
        "## Ejercicio\n",
        "\n",
        "Escribir un programa que almacene las asignaturas de un curso (por ejemplo Matemáticas, Física, Química, Historia y Lengua) en una lista y la muestre por pantalla."
      ]
    },
    {
      "cell_type": "markdown",
      "metadata": {
        "id": "kveIWRUv8Bi-"
      },
      "source": [
        "## Solución"
      ]
    },
    {
      "cell_type": "code",
      "execution_count": null,
      "metadata": {
        "id": "910z8Gs08Bj9",
        "outputId": "5022665b-a0a4-4c18-9ae3-e2c1148363bd"
      },
      "outputs": [
        {
          "name": "stdout",
          "output_type": "stream",
          "text": [
            "Yo estudio Matemáticas\n",
            "Yo estudio Física\n",
            "Yo estudio Química\n",
            "Yo estudio Historia\n",
            "Yo estudio Lengua\n"
          ]
        }
      ],
      "source": [
        "subjects = [\"Matemáticas\", \"Física\", \"Química\", \"Historia\", \"Lengua\"]\n",
        "for subject in subjects:\n",
        "    print(\"Yo estudio \" + subject)"
      ]
    },
    {
      "cell_type": "code",
      "source": [
        "asi = [\"mate, fisica, quimica, his, legua\"]\n",
        "print(\"yo estudio\", asi[0])\n"
      ],
      "metadata": {
        "id": "Oh80CZjx8SUO",
        "outputId": "efedb915-4b65-4383-c05d-aa20f8d5af1c",
        "colab": {
          "base_uri": "https://localhost:8080/"
        }
      },
      "execution_count": 11,
      "outputs": [
        {
          "output_type": "stream",
          "name": "stdout",
          "text": [
            "yo estudio mate, fisica, quimica, his, legua\n"
          ]
        }
      ]
    }
  ],
  "metadata": {
    "kernelspec": {
      "display_name": "Python 3",
      "language": "python",
      "name": "python3"
    },
    "language_info": {
      "codemirror_mode": {
        "name": "ipython",
        "version": 3
      },
      "file_extension": ".py",
      "mimetype": "text/x-python",
      "name": "python",
      "nbconvert_exporter": "python",
      "pygments_lexer": "ipython3",
      "version": "3.7.1"
    },
    "colab": {
      "provenance": []
    }
  },
  "nbformat": 4,
  "nbformat_minor": 0
}